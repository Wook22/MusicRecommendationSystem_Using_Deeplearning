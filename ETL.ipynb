{
 "cells": [
  {
   "cell_type": "code",
   "execution_count": null,
   "metadata": {},
   "outputs": [],
   "source": [
    "import json\n",
    "from pprint import pprint\n",
    "\n",
    "# Opening JSON files\n",
    "with open(\"Data/spotify_million_playlist_dataset_challenge/challenge_set.json\") as file:\n",
    "    data = json.load(file)\n",
    "    \n",
    "# Pretty-print the first chunk of key-value pairs (e.g., first 5)\n",
    "if isinstance(data, dict):\n",
    "    first_chunk = dict(list(data.items())[:5])  # Get the first 5 key-value pairs\n",
    "    pprint(first_chunk)\n",
    "else:\n",
    "    print(\"Unexpected structure: not a dictionary.\")"
   ]
  }
 ],
 "metadata": {
  "kernelspec": {
   "display_name": "Python 3",
   "language": "python",
   "name": "python3"
  },
  "language_info": {
   "name": "python",
   "version": "3.9.13"
  }
 },
 "nbformat": 4,
 "nbformat_minor": 2
}
